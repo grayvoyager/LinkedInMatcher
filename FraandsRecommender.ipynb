{
 "cells": [
  {
   "cell_type": "code",
   "execution_count": 1,
   "id": "ddf01c44",
   "metadata": {},
   "outputs": [],
   "source": [
    "import numpy as np"
   ]
  },
  {
   "cell_type": "code",
   "execution_count": 2,
   "id": "afdcc804",
   "metadata": {},
   "outputs": [],
   "source": [
    "import pandas as pd"
   ]
  },
  {
   "cell_type": "code",
   "execution_count": 3,
   "id": "c7dd0a39",
   "metadata": {},
   "outputs": [],
   "source": [
    "stud= pd.read_csv('studentdata.csv')"
   ]
  },
  {
   "cell_type": "code",
   "execution_count": 4,
   "id": "83fd6b95",
   "metadata": {},
   "outputs": [
    {
     "data": {
      "text/html": [
       "<div>\n",
       "<style scoped>\n",
       "    .dataframe tbody tr th:only-of-type {\n",
       "        vertical-align: middle;\n",
       "    }\n",
       "\n",
       "    .dataframe tbody tr th {\n",
       "        vertical-align: top;\n",
       "    }\n",
       "\n",
       "    .dataframe thead th {\n",
       "        text-align: right;\n",
       "    }\n",
       "</style>\n",
       "<table border=\"1\" class=\"dataframe\">\n",
       "  <thead>\n",
       "    <tr style=\"text-align: right;\">\n",
       "      <th></th>\n",
       "      <th>Name</th>\n",
       "      <th>XthInstitution</th>\n",
       "      <th>XIIthInstitution</th>\n",
       "      <th>Graduation Institution</th>\n",
       "    </tr>\n",
       "  </thead>\n",
       "  <tbody>\n",
       "    <tr>\n",
       "      <th>0</th>\n",
       "      <td>Abhipsha Padhi</td>\n",
       "      <td>DAV Kaling Nagar</td>\n",
       "      <td>Delhi Public School</td>\n",
       "      <td>Odisha University of Technology and Research</td>\n",
       "    </tr>\n",
       "    <tr>\n",
       "      <th>1</th>\n",
       "      <td>Abhisekh Das</td>\n",
       "      <td>DAV Pokhariput</td>\n",
       "      <td>Sai International</td>\n",
       "      <td>National Institution of Technology Rourkela</td>\n",
       "    </tr>\n",
       "    <tr>\n",
       "      <th>2</th>\n",
       "      <td>Abinash Biswal</td>\n",
       "      <td>DAV Chandrasekharpur</td>\n",
       "      <td>KIIT</td>\n",
       "      <td>National Institution of Technology Warangal</td>\n",
       "    </tr>\n",
       "    <tr>\n",
       "      <th>3</th>\n",
       "      <td>Alisha Golari</td>\n",
       "      <td>DAV Unit 8</td>\n",
       "      <td>Mothers Public School</td>\n",
       "      <td>National Institution of Technology Trichy</td>\n",
       "    </tr>\n",
       "    <tr>\n",
       "      <th>4</th>\n",
       "      <td>Alisha Hembram</td>\n",
       "      <td>Mothers Public School</td>\n",
       "      <td>DAV Chandrasekharpur</td>\n",
       "      <td>National Institution of Technology Delhi</td>\n",
       "    </tr>\n",
       "  </tbody>\n",
       "</table>\n",
       "</div>"
      ],
      "text/plain": [
       "             Name         XthInstitution       XIIthInstitution  \\\n",
       "0  Abhipsha Padhi       DAV Kaling Nagar    Delhi Public School   \n",
       "1    Abhisekh Das         DAV Pokhariput      Sai International   \n",
       "2  Abinash Biswal   DAV Chandrasekharpur                   KIIT   \n",
       "3   Alisha Golari             DAV Unit 8  Mothers Public School   \n",
       "4  Alisha Hembram  Mothers Public School   DAV Chandrasekharpur   \n",
       "\n",
       "                         Graduation Institution  \n",
       "0  Odisha University of Technology and Research  \n",
       "1   National Institution of Technology Rourkela  \n",
       "2   National Institution of Technology Warangal  \n",
       "3     National Institution of Technology Trichy  \n",
       "4      National Institution of Technology Delhi  "
      ]
     },
     "execution_count": 4,
     "metadata": {},
     "output_type": "execute_result"
    }
   ],
   "source": [
    "stud.head()"
   ]
  },
  {
   "cell_type": "code",
   "execution_count": 5,
   "id": "8bd60f49",
   "metadata": {},
   "outputs": [
    {
     "data": {
      "text/plain": [
       "0"
      ]
     },
     "execution_count": 5,
     "metadata": {},
     "output_type": "execute_result"
    }
   ],
   "source": [
    "stud.duplicated().sum()"
   ]
  },
  {
   "cell_type": "code",
   "execution_count": 7,
   "id": "6f114c05",
   "metadata": {},
   "outputs": [
    {
     "data": {
      "text/plain": [
       "'DAV Kaling Nagar'"
      ]
     },
     "execution_count": 7,
     "metadata": {},
     "output_type": "execute_result"
    }
   ],
   "source": [
    "stud.iloc[0].XthInstitution"
   ]
  },
  {
   "cell_type": "code",
   "execution_count": 8,
   "id": "cd702290",
   "metadata": {},
   "outputs": [],
   "source": [
    "import ast"
   ]
  },
  {
   "cell_type": "code",
   "execution_count": 9,
   "id": "4b896b25",
   "metadata": {},
   "outputs": [],
   "source": [
    "stud['XthInstitution']=stud['XthInstitution'].apply(lambda x:x.split())"
   ]
  },
  {
   "cell_type": "code",
   "execution_count": 10,
   "id": "12ef5c3c",
   "metadata": {},
   "outputs": [
    {
     "data": {
      "text/html": [
       "<div>\n",
       "<style scoped>\n",
       "    .dataframe tbody tr th:only-of-type {\n",
       "        vertical-align: middle;\n",
       "    }\n",
       "\n",
       "    .dataframe tbody tr th {\n",
       "        vertical-align: top;\n",
       "    }\n",
       "\n",
       "    .dataframe thead th {\n",
       "        text-align: right;\n",
       "    }\n",
       "</style>\n",
       "<table border=\"1\" class=\"dataframe\">\n",
       "  <thead>\n",
       "    <tr style=\"text-align: right;\">\n",
       "      <th></th>\n",
       "      <th>Name</th>\n",
       "      <th>XthInstitution</th>\n",
       "      <th>XIIthInstitution</th>\n",
       "      <th>Graduation Institution</th>\n",
       "    </tr>\n",
       "  </thead>\n",
       "  <tbody>\n",
       "    <tr>\n",
       "      <th>0</th>\n",
       "      <td>Abhipsha Padhi</td>\n",
       "      <td>[DAV, Kaling, Nagar]</td>\n",
       "      <td>Delhi Public School</td>\n",
       "      <td>Odisha University of Technology and Research</td>\n",
       "    </tr>\n",
       "    <tr>\n",
       "      <th>1</th>\n",
       "      <td>Abhisekh Das</td>\n",
       "      <td>[DAV, Pokhariput]</td>\n",
       "      <td>Sai International</td>\n",
       "      <td>National Institution of Technology Rourkela</td>\n",
       "    </tr>\n",
       "    <tr>\n",
       "      <th>2</th>\n",
       "      <td>Abinash Biswal</td>\n",
       "      <td>[DAV, Chandrasekharpur]</td>\n",
       "      <td>KIIT</td>\n",
       "      <td>National Institution of Technology Warangal</td>\n",
       "    </tr>\n",
       "    <tr>\n",
       "      <th>3</th>\n",
       "      <td>Alisha Golari</td>\n",
       "      <td>[DAV, Unit, 8]</td>\n",
       "      <td>Mothers Public School</td>\n",
       "      <td>National Institution of Technology Trichy</td>\n",
       "    </tr>\n",
       "    <tr>\n",
       "      <th>4</th>\n",
       "      <td>Alisha Hembram</td>\n",
       "      <td>[Mothers, Public, School]</td>\n",
       "      <td>DAV Chandrasekharpur</td>\n",
       "      <td>National Institution of Technology Delhi</td>\n",
       "    </tr>\n",
       "  </tbody>\n",
       "</table>\n",
       "</div>"
      ],
      "text/plain": [
       "             Name             XthInstitution       XIIthInstitution  \\\n",
       "0  Abhipsha Padhi       [DAV, Kaling, Nagar]    Delhi Public School   \n",
       "1    Abhisekh Das          [DAV, Pokhariput]      Sai International   \n",
       "2  Abinash Biswal    [DAV, Chandrasekharpur]                   KIIT   \n",
       "3   Alisha Golari             [DAV, Unit, 8]  Mothers Public School   \n",
       "4  Alisha Hembram  [Mothers, Public, School]   DAV Chandrasekharpur   \n",
       "\n",
       "                         Graduation Institution  \n",
       "0  Odisha University of Technology and Research  \n",
       "1   National Institution of Technology Rourkela  \n",
       "2   National Institution of Technology Warangal  \n",
       "3     National Institution of Technology Trichy  \n",
       "4      National Institution of Technology Delhi  "
      ]
     },
     "execution_count": 10,
     "metadata": {},
     "output_type": "execute_result"
    }
   ],
   "source": [
    "stud.head()"
   ]
  },
  {
   "cell_type": "code",
   "execution_count": 11,
   "id": "7131ec4a",
   "metadata": {},
   "outputs": [],
   "source": [
    "stud['XIIthInstitution']=stud['XIIthInstitution'].apply(lambda x:x.split())"
   ]
  },
  {
   "cell_type": "code",
   "execution_count": 12,
   "id": "c825f6c5",
   "metadata": {},
   "outputs": [],
   "source": [
    "stud['Graduation Institution']=stud['Graduation Institution'].apply(lambda x:x.split())"
   ]
  },
  {
   "cell_type": "code",
   "execution_count": 13,
   "id": "ae1e9249",
   "metadata": {},
   "outputs": [
    {
     "data": {
      "text/html": [
       "<div>\n",
       "<style scoped>\n",
       "    .dataframe tbody tr th:only-of-type {\n",
       "        vertical-align: middle;\n",
       "    }\n",
       "\n",
       "    .dataframe tbody tr th {\n",
       "        vertical-align: top;\n",
       "    }\n",
       "\n",
       "    .dataframe thead th {\n",
       "        text-align: right;\n",
       "    }\n",
       "</style>\n",
       "<table border=\"1\" class=\"dataframe\">\n",
       "  <thead>\n",
       "    <tr style=\"text-align: right;\">\n",
       "      <th></th>\n",
       "      <th>Name</th>\n",
       "      <th>XthInstitution</th>\n",
       "      <th>XIIthInstitution</th>\n",
       "      <th>Graduation Institution</th>\n",
       "    </tr>\n",
       "  </thead>\n",
       "  <tbody>\n",
       "    <tr>\n",
       "      <th>0</th>\n",
       "      <td>Abhipsha Padhi</td>\n",
       "      <td>[DAV, Kaling, Nagar]</td>\n",
       "      <td>[Delhi, Public, School]</td>\n",
       "      <td>[Odisha, University, of, Technology, and, Rese...</td>\n",
       "    </tr>\n",
       "    <tr>\n",
       "      <th>1</th>\n",
       "      <td>Abhisekh Das</td>\n",
       "      <td>[DAV, Pokhariput]</td>\n",
       "      <td>[Sai, International]</td>\n",
       "      <td>[National, Institution, of, Technology, Rourkela]</td>\n",
       "    </tr>\n",
       "    <tr>\n",
       "      <th>2</th>\n",
       "      <td>Abinash Biswal</td>\n",
       "      <td>[DAV, Chandrasekharpur]</td>\n",
       "      <td>[KIIT]</td>\n",
       "      <td>[National, Institution, of, Technology, Warangal]</td>\n",
       "    </tr>\n",
       "    <tr>\n",
       "      <th>3</th>\n",
       "      <td>Alisha Golari</td>\n",
       "      <td>[DAV, Unit, 8]</td>\n",
       "      <td>[Mothers, Public, School]</td>\n",
       "      <td>[National, Institution, of, Technology, Trichy]</td>\n",
       "    </tr>\n",
       "    <tr>\n",
       "      <th>4</th>\n",
       "      <td>Alisha Hembram</td>\n",
       "      <td>[Mothers, Public, School]</td>\n",
       "      <td>[DAV, Chandrasekharpur]</td>\n",
       "      <td>[National, Institution, of, Technology, Delhi]</td>\n",
       "    </tr>\n",
       "  </tbody>\n",
       "</table>\n",
       "</div>"
      ],
      "text/plain": [
       "             Name             XthInstitution           XIIthInstitution  \\\n",
       "0  Abhipsha Padhi       [DAV, Kaling, Nagar]    [Delhi, Public, School]   \n",
       "1    Abhisekh Das          [DAV, Pokhariput]       [Sai, International]   \n",
       "2  Abinash Biswal    [DAV, Chandrasekharpur]                     [KIIT]   \n",
       "3   Alisha Golari             [DAV, Unit, 8]  [Mothers, Public, School]   \n",
       "4  Alisha Hembram  [Mothers, Public, School]    [DAV, Chandrasekharpur]   \n",
       "\n",
       "                              Graduation Institution  \n",
       "0  [Odisha, University, of, Technology, and, Rese...  \n",
       "1  [National, Institution, of, Technology, Rourkela]  \n",
       "2  [National, Institution, of, Technology, Warangal]  \n",
       "3    [National, Institution, of, Technology, Trichy]  \n",
       "4     [National, Institution, of, Technology, Delhi]  "
      ]
     },
     "execution_count": 13,
     "metadata": {},
     "output_type": "execute_result"
    }
   ],
   "source": [
    "stud.head()"
   ]
  },
  {
   "cell_type": "code",
   "execution_count": 14,
   "id": "14daf703",
   "metadata": {},
   "outputs": [],
   "source": [
    "stud['XthInstitution']=stud['XthInstitution'].apply(lambda x:[i.replace(\" \",\"\") for i in x])"
   ]
  },
  {
   "cell_type": "code",
   "execution_count": 15,
   "id": "fb398cf5",
   "metadata": {},
   "outputs": [],
   "source": [
    "stud['XIIthInstitution']=stud['XIIthInstitution'].apply(lambda x:[i.replace(\" \",\"\") for i in x])"
   ]
  },
  {
   "cell_type": "code",
   "execution_count": 16,
   "id": "ab505fb0",
   "metadata": {},
   "outputs": [],
   "source": [
    "stud['Graduation Institution']=stud['Graduation Institution'].apply(lambda x:[i.replace(\" \",\"\") for i in x])"
   ]
  },
  {
   "cell_type": "code",
   "execution_count": 17,
   "id": "eb545fe6",
   "metadata": {},
   "outputs": [
    {
     "data": {
      "text/html": [
       "<div>\n",
       "<style scoped>\n",
       "    .dataframe tbody tr th:only-of-type {\n",
       "        vertical-align: middle;\n",
       "    }\n",
       "\n",
       "    .dataframe tbody tr th {\n",
       "        vertical-align: top;\n",
       "    }\n",
       "\n",
       "    .dataframe thead th {\n",
       "        text-align: right;\n",
       "    }\n",
       "</style>\n",
       "<table border=\"1\" class=\"dataframe\">\n",
       "  <thead>\n",
       "    <tr style=\"text-align: right;\">\n",
       "      <th></th>\n",
       "      <th>Name</th>\n",
       "      <th>XthInstitution</th>\n",
       "      <th>XIIthInstitution</th>\n",
       "      <th>Graduation Institution</th>\n",
       "    </tr>\n",
       "  </thead>\n",
       "  <tbody>\n",
       "    <tr>\n",
       "      <th>0</th>\n",
       "      <td>Abhipsha Padhi</td>\n",
       "      <td>[DAV, Kaling, Nagar]</td>\n",
       "      <td>[Delhi, Public, School]</td>\n",
       "      <td>[Odisha, University, of, Technology, and, Rese...</td>\n",
       "    </tr>\n",
       "    <tr>\n",
       "      <th>1</th>\n",
       "      <td>Abhisekh Das</td>\n",
       "      <td>[DAV, Pokhariput]</td>\n",
       "      <td>[Sai, International]</td>\n",
       "      <td>[National, Institution, of, Technology, Rourkela]</td>\n",
       "    </tr>\n",
       "    <tr>\n",
       "      <th>2</th>\n",
       "      <td>Abinash Biswal</td>\n",
       "      <td>[DAV, Chandrasekharpur]</td>\n",
       "      <td>[KIIT]</td>\n",
       "      <td>[National, Institution, of, Technology, Warangal]</td>\n",
       "    </tr>\n",
       "    <tr>\n",
       "      <th>3</th>\n",
       "      <td>Alisha Golari</td>\n",
       "      <td>[DAV, Unit, 8]</td>\n",
       "      <td>[Mothers, Public, School]</td>\n",
       "      <td>[National, Institution, of, Technology, Trichy]</td>\n",
       "    </tr>\n",
       "    <tr>\n",
       "      <th>4</th>\n",
       "      <td>Alisha Hembram</td>\n",
       "      <td>[Mothers, Public, School]</td>\n",
       "      <td>[DAV, Chandrasekharpur]</td>\n",
       "      <td>[National, Institution, of, Technology, Delhi]</td>\n",
       "    </tr>\n",
       "  </tbody>\n",
       "</table>\n",
       "</div>"
      ],
      "text/plain": [
       "             Name             XthInstitution           XIIthInstitution  \\\n",
       "0  Abhipsha Padhi       [DAV, Kaling, Nagar]    [Delhi, Public, School]   \n",
       "1    Abhisekh Das          [DAV, Pokhariput]       [Sai, International]   \n",
       "2  Abinash Biswal    [DAV, Chandrasekharpur]                     [KIIT]   \n",
       "3   Alisha Golari             [DAV, Unit, 8]  [Mothers, Public, School]   \n",
       "4  Alisha Hembram  [Mothers, Public, School]    [DAV, Chandrasekharpur]   \n",
       "\n",
       "                              Graduation Institution  \n",
       "0  [Odisha, University, of, Technology, and, Rese...  \n",
       "1  [National, Institution, of, Technology, Rourkela]  \n",
       "2  [National, Institution, of, Technology, Warangal]  \n",
       "3    [National, Institution, of, Technology, Trichy]  \n",
       "4     [National, Institution, of, Technology, Delhi]  "
      ]
     },
     "execution_count": 17,
     "metadata": {},
     "output_type": "execute_result"
    }
   ],
   "source": [
    "stud.head()"
   ]
  },
  {
   "cell_type": "code",
   "execution_count": 18,
   "id": "c50d3e17",
   "metadata": {},
   "outputs": [
    {
     "name": "stdout",
     "output_type": "stream",
     "text": [
      "Requirement already satisfied: nltk in c:\\users\\praty\\anaconda3\\lib\\site-packages (3.7)\n",
      "Requirement already satisfied: regex>=2021.8.3 in c:\\users\\praty\\anaconda3\\lib\\site-packages (from nltk) (2022.3.15)\n",
      "Requirement already satisfied: joblib in c:\\users\\praty\\anaconda3\\lib\\site-packages (from nltk) (1.1.0)\n",
      "Requirement already satisfied: tqdm in c:\\users\\praty\\anaconda3\\lib\\site-packages (from nltk) (4.64.0)\n",
      "Requirement already satisfied: click in c:\\users\\praty\\anaconda3\\lib\\site-packages (from nltk) (8.0.4)\n",
      "Requirement already satisfied: colorama in c:\\users\\praty\\anaconda3\\lib\\site-packages (from click->nltk) (0.4.4)\n"
     ]
    }
   ],
   "source": [
    "!pip install nltk"
   ]
  },
  {
   "cell_type": "code",
   "execution_count": 19,
   "id": "916e0eca",
   "metadata": {},
   "outputs": [],
   "source": [
    "stud['tags']= stud['XthInstitution']+ stud['XIIthInstitution']+ stud['Graduation Institution'] "
   ]
  },
  {
   "cell_type": "code",
   "execution_count": 20,
   "id": "55b63963",
   "metadata": {},
   "outputs": [
    {
     "data": {
      "text/html": [
       "<div>\n",
       "<style scoped>\n",
       "    .dataframe tbody tr th:only-of-type {\n",
       "        vertical-align: middle;\n",
       "    }\n",
       "\n",
       "    .dataframe tbody tr th {\n",
       "        vertical-align: top;\n",
       "    }\n",
       "\n",
       "    .dataframe thead th {\n",
       "        text-align: right;\n",
       "    }\n",
       "</style>\n",
       "<table border=\"1\" class=\"dataframe\">\n",
       "  <thead>\n",
       "    <tr style=\"text-align: right;\">\n",
       "      <th></th>\n",
       "      <th>Name</th>\n",
       "      <th>XthInstitution</th>\n",
       "      <th>XIIthInstitution</th>\n",
       "      <th>Graduation Institution</th>\n",
       "      <th>tags</th>\n",
       "    </tr>\n",
       "  </thead>\n",
       "  <tbody>\n",
       "    <tr>\n",
       "      <th>0</th>\n",
       "      <td>Abhipsha Padhi</td>\n",
       "      <td>[DAV, Kaling, Nagar]</td>\n",
       "      <td>[Delhi, Public, School]</td>\n",
       "      <td>[Odisha, University, of, Technology, and, Rese...</td>\n",
       "      <td>[DAV, Kaling, Nagar, Delhi, Public, School, Od...</td>\n",
       "    </tr>\n",
       "    <tr>\n",
       "      <th>1</th>\n",
       "      <td>Abhisekh Das</td>\n",
       "      <td>[DAV, Pokhariput]</td>\n",
       "      <td>[Sai, International]</td>\n",
       "      <td>[National, Institution, of, Technology, Rourkela]</td>\n",
       "      <td>[DAV, Pokhariput, Sai, International, National...</td>\n",
       "    </tr>\n",
       "    <tr>\n",
       "      <th>2</th>\n",
       "      <td>Abinash Biswal</td>\n",
       "      <td>[DAV, Chandrasekharpur]</td>\n",
       "      <td>[KIIT]</td>\n",
       "      <td>[National, Institution, of, Technology, Warangal]</td>\n",
       "      <td>[DAV, Chandrasekharpur, KIIT, National, Instit...</td>\n",
       "    </tr>\n",
       "    <tr>\n",
       "      <th>3</th>\n",
       "      <td>Alisha Golari</td>\n",
       "      <td>[DAV, Unit, 8]</td>\n",
       "      <td>[Mothers, Public, School]</td>\n",
       "      <td>[National, Institution, of, Technology, Trichy]</td>\n",
       "      <td>[DAV, Unit, 8, Mothers, Public, School, Nation...</td>\n",
       "    </tr>\n",
       "    <tr>\n",
       "      <th>4</th>\n",
       "      <td>Alisha Hembram</td>\n",
       "      <td>[Mothers, Public, School]</td>\n",
       "      <td>[DAV, Chandrasekharpur]</td>\n",
       "      <td>[National, Institution, of, Technology, Delhi]</td>\n",
       "      <td>[Mothers, Public, School, DAV, Chandrasekharpu...</td>\n",
       "    </tr>\n",
       "  </tbody>\n",
       "</table>\n",
       "</div>"
      ],
      "text/plain": [
       "             Name             XthInstitution           XIIthInstitution  \\\n",
       "0  Abhipsha Padhi       [DAV, Kaling, Nagar]    [Delhi, Public, School]   \n",
       "1    Abhisekh Das          [DAV, Pokhariput]       [Sai, International]   \n",
       "2  Abinash Biswal    [DAV, Chandrasekharpur]                     [KIIT]   \n",
       "3   Alisha Golari             [DAV, Unit, 8]  [Mothers, Public, School]   \n",
       "4  Alisha Hembram  [Mothers, Public, School]    [DAV, Chandrasekharpur]   \n",
       "\n",
       "                              Graduation Institution  \\\n",
       "0  [Odisha, University, of, Technology, and, Rese...   \n",
       "1  [National, Institution, of, Technology, Rourkela]   \n",
       "2  [National, Institution, of, Technology, Warangal]   \n",
       "3    [National, Institution, of, Technology, Trichy]   \n",
       "4     [National, Institution, of, Technology, Delhi]   \n",
       "\n",
       "                                                tags  \n",
       "0  [DAV, Kaling, Nagar, Delhi, Public, School, Od...  \n",
       "1  [DAV, Pokhariput, Sai, International, National...  \n",
       "2  [DAV, Chandrasekharpur, KIIT, National, Instit...  \n",
       "3  [DAV, Unit, 8, Mothers, Public, School, Nation...  \n",
       "4  [Mothers, Public, School, DAV, Chandrasekharpu...  "
      ]
     },
     "execution_count": 20,
     "metadata": {},
     "output_type": "execute_result"
    }
   ],
   "source": [
    "stud.head()"
   ]
  },
  {
   "cell_type": "code",
   "execution_count": 21,
   "id": "9528d894",
   "metadata": {},
   "outputs": [],
   "source": [
    "new_df=stud[['Name','tags']]"
   ]
  },
  {
   "cell_type": "code",
   "execution_count": 22,
   "id": "38926c7c",
   "metadata": {},
   "outputs": [
    {
     "data": {
      "text/html": [
       "<div>\n",
       "<style scoped>\n",
       "    .dataframe tbody tr th:only-of-type {\n",
       "        vertical-align: middle;\n",
       "    }\n",
       "\n",
       "    .dataframe tbody tr th {\n",
       "        vertical-align: top;\n",
       "    }\n",
       "\n",
       "    .dataframe thead th {\n",
       "        text-align: right;\n",
       "    }\n",
       "</style>\n",
       "<table border=\"1\" class=\"dataframe\">\n",
       "  <thead>\n",
       "    <tr style=\"text-align: right;\">\n",
       "      <th></th>\n",
       "      <th>Name</th>\n",
       "      <th>tags</th>\n",
       "    </tr>\n",
       "  </thead>\n",
       "  <tbody>\n",
       "    <tr>\n",
       "      <th>0</th>\n",
       "      <td>Abhipsha Padhi</td>\n",
       "      <td>[DAV, Kaling, Nagar, Delhi, Public, School, Od...</td>\n",
       "    </tr>\n",
       "    <tr>\n",
       "      <th>1</th>\n",
       "      <td>Abhisekh Das</td>\n",
       "      <td>[DAV, Pokhariput, Sai, International, National...</td>\n",
       "    </tr>\n",
       "    <tr>\n",
       "      <th>2</th>\n",
       "      <td>Abinash Biswal</td>\n",
       "      <td>[DAV, Chandrasekharpur, KIIT, National, Instit...</td>\n",
       "    </tr>\n",
       "    <tr>\n",
       "      <th>3</th>\n",
       "      <td>Alisha Golari</td>\n",
       "      <td>[DAV, Unit, 8, Mothers, Public, School, Nation...</td>\n",
       "    </tr>\n",
       "    <tr>\n",
       "      <th>4</th>\n",
       "      <td>Alisha Hembram</td>\n",
       "      <td>[Mothers, Public, School, DAV, Chandrasekharpu...</td>\n",
       "    </tr>\n",
       "  </tbody>\n",
       "</table>\n",
       "</div>"
      ],
      "text/plain": [
       "             Name                                               tags\n",
       "0  Abhipsha Padhi  [DAV, Kaling, Nagar, Delhi, Public, School, Od...\n",
       "1    Abhisekh Das  [DAV, Pokhariput, Sai, International, National...\n",
       "2  Abinash Biswal  [DAV, Chandrasekharpur, KIIT, National, Instit...\n",
       "3   Alisha Golari  [DAV, Unit, 8, Mothers, Public, School, Nation...\n",
       "4  Alisha Hembram  [Mothers, Public, School, DAV, Chandrasekharpu..."
      ]
     },
     "execution_count": 22,
     "metadata": {},
     "output_type": "execute_result"
    }
   ],
   "source": [
    "new_df.head()"
   ]
  },
  {
   "cell_type": "code",
   "execution_count": 23,
   "id": "80a71fa8",
   "metadata": {},
   "outputs": [
    {
     "name": "stderr",
     "output_type": "stream",
     "text": [
      "C:\\Users\\praty\\AppData\\Local\\Temp\\ipykernel_1640\\335926201.py:1: SettingWithCopyWarning: \n",
      "A value is trying to be set on a copy of a slice from a DataFrame.\n",
      "Try using .loc[row_indexer,col_indexer] = value instead\n",
      "\n",
      "See the caveats in the documentation: https://pandas.pydata.org/pandas-docs/stable/user_guide/indexing.html#returning-a-view-versus-a-copy\n",
      "  new_df['tags']= new_df['tags'].apply(lambda x:\" \".join(x))\n"
     ]
    }
   ],
   "source": [
    "new_df['tags']= new_df['tags'].apply(lambda x:\" \".join(x))"
   ]
  },
  {
   "cell_type": "code",
   "execution_count": 24,
   "id": "71a3a272",
   "metadata": {},
   "outputs": [
    {
     "name": "stderr",
     "output_type": "stream",
     "text": [
      "C:\\Users\\praty\\AppData\\Local\\Temp\\ipykernel_1640\\899821970.py:1: SettingWithCopyWarning: \n",
      "A value is trying to be set on a copy of a slice from a DataFrame.\n",
      "Try using .loc[row_indexer,col_indexer] = value instead\n",
      "\n",
      "See the caveats in the documentation: https://pandas.pydata.org/pandas-docs/stable/user_guide/indexing.html#returning-a-view-versus-a-copy\n",
      "  new_df['tags']= new_df['tags'].apply(lambda x:x.lower())\n"
     ]
    }
   ],
   "source": [
    "new_df['tags']= new_df['tags'].apply(lambda x:x.lower())"
   ]
  },
  {
   "cell_type": "code",
   "execution_count": 25,
   "id": "47e4c315",
   "metadata": {},
   "outputs": [],
   "source": [
    "import sklearn"
   ]
  },
  {
   "cell_type": "code",
   "execution_count": 26,
   "id": "dadd9f14",
   "metadata": {},
   "outputs": [],
   "source": [
    "from sklearn.feature_extraction.text import CountVectorizer\n",
    "cv= CountVectorizer(max_features=73,stop_words='english')"
   ]
  },
  {
   "cell_type": "code",
   "execution_count": 27,
   "id": "5e8a61df",
   "metadata": {},
   "outputs": [],
   "source": [
    "vectors= cv.fit_transform(new_df['tags']).toarray()"
   ]
  },
  {
   "cell_type": "code",
   "execution_count": 28,
   "id": "475fe8fa",
   "metadata": {},
   "outputs": [],
   "source": [
    "from nltk.stem.porter import PorterStemmer\n",
    "ps= PorterStemmer()"
   ]
  },
  {
   "cell_type": "code",
   "execution_count": 29,
   "id": "7bcde6e6",
   "metadata": {},
   "outputs": [],
   "source": [
    "def stem(text):\n",
    "    y=[]\n",
    "    for i in text.split():\n",
    "        y.append(ps.stem(i))\n",
    "        \n",
    "    return \" \".join(y)"
   ]
  },
  {
   "cell_type": "code",
   "execution_count": 30,
   "id": "186d857b",
   "metadata": {},
   "outputs": [
    {
     "name": "stderr",
     "output_type": "stream",
     "text": [
      "C:\\Users\\praty\\AppData\\Local\\Temp\\ipykernel_1640\\3514595201.py:1: SettingWithCopyWarning: \n",
      "A value is trying to be set on a copy of a slice from a DataFrame.\n",
      "Try using .loc[row_indexer,col_indexer] = value instead\n",
      "\n",
      "See the caveats in the documentation: https://pandas.pydata.org/pandas-docs/stable/user_guide/indexing.html#returning-a-view-versus-a-copy\n",
      "  new_df['tags']=new_df['tags'].apply(stem)\n"
     ]
    }
   ],
   "source": [
    "new_df['tags']=new_df['tags'].apply(stem)"
   ]
  },
  {
   "cell_type": "code",
   "execution_count": 31,
   "id": "e7ee5a97",
   "metadata": {},
   "outputs": [],
   "source": [
    "from sklearn.metrics.pairwise import cosine_similarity"
   ]
  },
  {
   "cell_type": "code",
   "execution_count": 32,
   "id": "8e1a1929",
   "metadata": {},
   "outputs": [],
   "source": [
    "similarity= cosine_similarity(vectors)"
   ]
  },
  {
   "cell_type": "code",
   "execution_count": 33,
   "id": "5f1d4ed0",
   "metadata": {},
   "outputs": [
    {
     "data": {
      "text/plain": [
       "2"
      ]
     },
     "execution_count": 33,
     "metadata": {},
     "output_type": "execute_result"
    }
   ],
   "source": [
    "new_df[new_df['Name']=='Abinash Biswal'].index[0]"
   ]
  },
  {
   "cell_type": "code",
   "execution_count": 37,
   "id": "aad7e17c",
   "metadata": {},
   "outputs": [],
   "source": [
    "def recommend(student):\n",
    "    stud_index=new_df[new_df['Name']==student].index[0]\n",
    "    distances = similarity[stud_index]\n",
    "    stud_list= sorted(list(enumerate(distances)),reverse=True,key = lambda x:x[1])[1:6]\n",
    "    for i in stud_list:\n",
    "        print(new_df.iloc[i[0]].Name)"
   ]
  },
  {
   "cell_type": "code",
   "execution_count": 38,
   "id": "103537d0",
   "metadata": {},
   "outputs": [
    {
     "name": "stdout",
     "output_type": "stream",
     "text": [
      "Tanmaya Samal\n",
      "Khushi gupta\n",
      "Ankita Das \n",
      "Stuti Pattnaik\n",
      "Bikash Chandra Dalai\n"
     ]
    }
   ],
   "source": [
    "recommend('Abinash Biswal')"
   ]
  },
  {
   "cell_type": "code",
   "execution_count": 39,
   "id": "ef9f155f",
   "metadata": {},
   "outputs": [
    {
     "name": "stdout",
     "output_type": "stream",
     "text": [
      "MAHAVIR PRASAD HOTA\n",
      "Abhisekh Das\n",
      "ASHISH EKKA\n",
      "Swagat Shekhar Seth\n",
      "Biswakiran Das\n"
     ]
    }
   ],
   "source": [
    "recommend('Sai Soumyak Nanda')"
   ]
  },
  {
   "cell_type": "code",
   "execution_count": null,
   "id": "e584e735",
   "metadata": {},
   "outputs": [],
   "source": []
  }
 ],
 "metadata": {
  "kernelspec": {
   "display_name": "Python 3 (ipykernel)",
   "language": "python",
   "name": "python3"
  },
  "language_info": {
   "codemirror_mode": {
    "name": "ipython",
    "version": 3
   },
   "file_extension": ".py",
   "mimetype": "text/x-python",
   "name": "python",
   "nbconvert_exporter": "python",
   "pygments_lexer": "ipython3",
   "version": "3.9.12"
  }
 },
 "nbformat": 4,
 "nbformat_minor": 5
}
